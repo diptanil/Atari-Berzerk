{
 "cells": [
  {
   "cell_type": "markdown",
   "metadata": {},
   "source": [
    "### Space Invaders\n",
    "\n",
    "\n",
    "#### Imports\n",
    "\n",
    "Assuming requirements.txt intslled and AutoROM liscense accepted\n",
    "\n",
    "gym library: https://www.gymlibrary.dev/\n",
    "\n",
    "random"
   ]
  },
  {
   "cell_type": "code",
   "execution_count": 2,
   "metadata": {},
   "outputs": [],
   "source": [
    "import gym\n",
    "import random"
   ]
  },
  {
   "cell_type": "markdown",
   "metadata": {},
   "source": [
    "#### Creating Environment"
   ]
  },
  {
   "cell_type": "code",
   "execution_count": 7,
   "metadata": {},
   "outputs": [],
   "source": [
    "env = gym.make(\"ALE/SpaceInvaders-v5\",\n",
    "        obs_type='rgb',                 # ram / rgb / greyscale\n",
    "        frameskip=4,                    # frame skip\n",
    "        difficulty=None,\n",
    "        repeat_action_probability=0.25, # sticky action probability\n",
    "        full_action_space=False,        # use all actions \n",
    "        render_mode = 'human'           # None / human / rgb_array\n",
    "        )\n",
    "height, width, channels = env.observation_space.shape\n",
    "actions = env.action_space.n"
   ]
  },
  {
   "cell_type": "markdown",
   "metadata": {},
   "source": [
    "Understanding the meading of each action."
   ]
  },
  {
   "cell_type": "code",
   "execution_count": 8,
   "metadata": {},
   "outputs": [
    {
     "data": {
      "text/plain": [
       "['NOOP', 'FIRE', 'RIGHT', 'LEFT', 'RIGHTFIRE', 'LEFTFIRE']"
      ]
     },
     "execution_count": 8,
     "metadata": {},
     "output_type": "execute_result"
    }
   ],
   "source": [
    "env.unwrapped.get_action_meanings()"
   ]
  },
  {
   "cell_type": "markdown",
   "metadata": {},
   "source": [
    "Running the code for 5 episodes using random action as a base test case"
   ]
  },
  {
   "cell_type": "code",
   "execution_count": 9,
   "metadata": {},
   "outputs": [
    {
     "name": "stdout",
     "output_type": "stream",
     "text": [
      "Episode 0 \t score 80.0\n",
      "Episode 1 \t score 120.0\n",
      "Episode 2 \t score 490.0\n",
      "Episode 3 \t score 50.0\n",
      "Episode 4 \t score 70.0\n"
     ]
    }
   ],
   "source": [
    "epsiodes = 5\n",
    "for episode in range(epsiodes):\n",
    "    observation, info = env.reset()\n",
    "    done = False\n",
    "    score = 0\n",
    "\n",
    "    while not done:\n",
    "        env.render()\n",
    "        random_action = env.action_space.sample()\n",
    "\n",
    "        observation, reward, terminated, truncated, info = env.step(random_action)\n",
    "\n",
    "        score += reward\n",
    "        if terminated or truncated:\n",
    "            done = True\n",
    "    \n",
    "    print(f\"Episode {episode} \\t score {score}\")\n",
    "env.close()"
   ]
  }
 ],
 "metadata": {
  "kernelspec": {
   "display_name": "Python 3.10.8 ('.venv': venv)",
   "language": "python",
   "name": "python3"
  },
  "language_info": {
   "codemirror_mode": {
    "name": "ipython",
    "version": 3
   },
   "file_extension": ".py",
   "mimetype": "text/x-python",
   "name": "python",
   "nbconvert_exporter": "python",
   "pygments_lexer": "ipython3",
   "version": "3.10.8"
  },
  "orig_nbformat": 4,
  "vscode": {
   "interpreter": {
    "hash": "20c3b61d97b74f13622954d99d381be465634dc2a1065ee25c88751828351d6f"
   }
  }
 },
 "nbformat": 4,
 "nbformat_minor": 2
}
